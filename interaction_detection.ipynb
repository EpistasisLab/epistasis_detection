{
 "cells": [
  {
   "cell_type": "markdown",
   "metadata": {},
   "source": [
    "This notebook is written to implement the model for Epistasis as defined in the research work titled 'Computational Framework for Statistical Epistasis Supports XOR Penetrance Function in a Living System'. "
   ]
  },
  {
   "cell_type": "code",
   "execution_count": 23,
   "metadata": {},
   "outputs": [],
   "source": [
    "# importing all the required packages\n",
    "import pandas as pd\n",
    "import numpy as np\n",
    "import scipy.stats"
   ]
  },
  {
   "cell_type": "code",
   "execution_count": 67,
   "metadata": {},
   "outputs": [],
   "source": [
    "# reading the data \n",
    "data = pd.read_csv(\"top10k_pruned.csv\") # the last column contains the phenotype values, in this case bmi\n",
    "phenotype = data.iloc[:,-1]"
   ]
  },
  {
   "cell_type": "code",
   "execution_count": 68,
   "metadata": {},
   "outputs": [
    {
     "name": "stdout",
     "output_type": "stream",
     "text": [
      "0       0.021571\n",
      "1      -0.696204\n",
      "2       0.745178\n",
      "3       2.002737\n",
      "4       0.198740\n",
      "          ...   \n",
      "5561    0.649946\n",
      "5562    0.416354\n",
      "5563   -1.510500\n",
      "5564    0.646228\n",
      "5565   -0.226840\n",
      "Name: y, Length: 5566, dtype: float64\n"
     ]
    }
   ],
   "source": [
    "print(phenotype)"
   ]
  },
  {
   "cell_type": "code",
   "execution_count": 69,
   "metadata": {},
   "outputs": [],
   "source": [
    "# # reading the data \n",
    "# data = pd.read_csv(\"BMIwTail.csv\") # the last column contains the phenotype values, in this case bmi\n",
    "\n",
    "# # storing the phenotype in the variable\n",
    "# phenotype = data.iloc[:,-1]\n",
    "\n",
    "# defining the significance level \n",
    "alpha = .05\n",
    "\n",
    "# storing the count of number of samples in the variable n\n",
    "n = data.shape[0]\n",
    "\n",
    "# defining degrees of freedom where n is number of samples\n",
    "df = n-4\n",
    "\n",
    "# defining the critical value\n",
    "critical_value = scipy.stats.t.ppf(q=1-alpha/2,df=df)\n"
   ]
  },
  {
   "cell_type": "markdown",
   "metadata": {},
   "source": [
    "Below is the algoritm implementation for the partial correlation of interaction of genes for Epistasis. We use two different ways of encoding the interaction terms. Firstly, the traditional method of cartesian product and then by using the XOR penetrance function."
   ]
  },
  {
   "cell_type": "code",
   "execution_count": 7,
   "metadata": {},
   "outputs": [],
   "source": [
    "# Algorithm for Interaction Coefficient for Pairwise Epistasis\n",
    "\"\"\"Parameters for the method:\n",
    "    snp1 - First snp in the pair to be checked for interaction\n",
    "    snp2 - Second snp in the pair to be checked for interaction\n",
    "    phenotype - Phenotype vector\n",
    "\"\"\"\n",
    "def epistatis(snp1, snp2, phenotype): \n",
    "    try:\n",
    "        # removing the intercept by mean centering\n",
    "        snp1_tilde = snp1 - snp1.mean()\n",
    "        snp2_tilde = snp2 - snp2.mean()\n",
    "        phenotype_tilde = phenotype - phenotype.mean()\n",
    "\n",
    "        # declaring the interaction vector - will contain the interaction term of snp1 and snp2\n",
    "        interaction_vector = pd.Series(dtype='float64')\n",
    "    \n",
    "        # defining the interaction vector - either using cartesian product or XOR\n",
    "        interaction_vector = (snp1%2 + snp2%2)%2 # using XOR penetrance\n",
    "        #interaction_vector = snp1.mul(snp2) # using cartesian product\n",
    "    \n",
    "        # mean centering the interaction vector \n",
    "        interaction_vector_tilde = interaction_vector - interaction_vector.mean()\n",
    "   \n",
    "        # computing the dot products as explained in the algorithm\n",
    "        x = (snp1_tilde.dot(interaction_vector_tilde)/snp1_tilde.dot(snp1_tilde)) * (snp1_tilde)\n",
    "        u = interaction_vector_tilde - x\n",
    "        y = (((interaction_vector_tilde.dot(snp2_tilde)) * (snp1_tilde.dot(snp1_tilde))) - ((snp1_tilde.dot(snp2_tilde)) * ((snp1_tilde.dot(interaction_vector_tilde))))) / ((snp2_tilde.dot(snp2_tilde)) * (snp1_tilde.dot(snp1_tilde)) - ((snp1_tilde.dot(snp2_tilde)) * (snp1_tilde.dot(snp2_tilde))))\n",
    "        z = snp2_tilde - (((snp1_tilde.dot(snp2_tilde)) / (snp1_tilde.dot(snp1_tilde))) * snp1_tilde)\n",
    "        v = u - (y*z)\n",
    "        r = (v.dot(phenotype_tilde)) / (v.dot(v)) # interactionn coefficient\n",
    "        # performing Fisher's ttest\n",
    "        t_test = np.sqrt(df)*r/(np.sqrt(1-r*r))\n",
    "        p_val = scipy.stats.t.sf(abs(t_test), df)\n",
    "    except Exception as e:\n",
    "        print(\"Error pair detected with error: \", e)\n",
    "        r = 0\n",
    "        t_test = 0\n",
    "        p_val = 1\n",
    "\n",
    "    return r, t_test, p_val # returning the interaction coefficient"
   ]
  },
  {
   "cell_type": "code",
   "execution_count": null,
   "metadata": {},
   "outputs": [],
   "source": [
    "# applying the above defined method to the dataset\n",
    "\n",
    "p_value_locus = [] # list of tuples containing the p_value and the two interacting loci\n",
    "for i in range(0, data.shape[1]-1):\n",
    "    for j in range(i+1, data.shape[1]-1):\n",
    "        interacting_snp_1 = data.iloc[:,i]\n",
    "        interacting_snp_2 = data.iloc[:,j]\n",
    "        r, t_test, p_val = epistatis(interacting_snp_1, interacting_snp_2, phenotype)\n",
    "        p_value_locus.append((p_val, data.columns[i], data.columns[j]))\n",
    "\n",
    "        \n",
    "        # printing the interacting pairs with ttest values greater than the selected critical value\n",
    "        if abs(t_test) > critical_value:\n",
    "            print(\" Interacting SNP 1 = {0} \\t  Interacting SNP 2 ={1} \\t  Beta Coefficient(r) = {2}  \\t t_test = {3} \\t p_val = {4} \".format(data.columns[i], data.columns[j], r, t_test, p_val))\n",
    "\n",
    "        # printing exception cases\n",
    "        if r==0 and t_test==0 and p_val==1:\n",
    "            print(\"Error Pair: \")\n",
    "            print(\" Interacting SNP 1 = {0} \\t  Interacting SNP 2 ={1} \\t  Beta Coefficient(r) = {2}  \\t t_test = {3} \\t p_val = {4} \".format(data.columns[i], data.columns[j], r, t_test, p_val))"
   ]
  },
  {
   "cell_type": "code",
   "execution_count": null,
   "metadata": {},
   "outputs": [],
   "source": [
    "# performing fdr correction to correct for multiple tests\n",
    "\n",
    "import statsmodels.stats.multitest as ssm\n",
    "\n",
    "all_p_values = [] # list of all the p_values of the pairwise combinations\n",
    "for i in range(0, len(p_value_locus)):\n",
    "    all_p_values.append(p_value_locus[i][0])\n",
    "\n",
    "accept, corrected_pvals = ssm.fdrcorrection(np.asarray(all_p_values).flatten(), alpha=0.001)\n",
    "\n",
    "for i in range(0, len(corrected_pvals)):\n",
    "    # printing the significant pairs after p value correction\n",
    "    if corrected_pvals[i] < 0.001:\n",
    "        print(\" p-value = {0} \\t adjusted p-value = {1} \\t loci 1 = {2} \\t loci 2 = {3} \".format( p_value_locus[i][0],  corrected_pvals[i], p_value_locus[i][1], p_value_locus[i][2]))"
   ]
  },
  {
   "attachments": {},
   "cell_type": "markdown",
   "metadata": {},
   "source": [
    "Algorithm implementation for 3 way epistasis detection"
   ]
  },
  {
   "cell_type": "code",
   "execution_count": 66,
   "metadata": {},
   "outputs": [
    {
     "name": "stdout",
     "output_type": "stream",
     "text": [
      "Size of q:  16698\n",
      "Size of a:  5566\n",
      "Size of q:  22264\n",
      "Size of a:  5566\n",
      "Size of q:  27830\n",
      "Size of a:  5566\n",
      "Size of q:  33396\n",
      "Size of q:  38962\n",
      "Size of q:  44528\n",
      "gs curr:  [[0.]]\n",
      "gs_prev:  [[0.]]\n",
      "curr numerator value:  [[0.]]\n",
      "curr numerator value:  [[0.]]\n",
      "curr value:  [[nan]]\n"
     ]
    },
    {
     "name": "stderr",
     "output_type": "stream",
     "text": [
      "/var/folders/tk/fx2yky6541g6mcrmyxf32_6c0000gt/T/ipykernel_9750/1981577070.py:42: RuntimeWarning: invalid value encountered in true_divide\n",
      "  curr = np.matmul(np.transpose(gs_curr), gs_prev)/np.matmul(np.transpose(gs_prev), gs_prev)\n",
      "/var/folders/tk/fx2yky6541g6mcrmyxf32_6c0000gt/T/ipykernel_9750/1981577070.py:51: RuntimeWarning: invalid value encountered in double_scalars\n",
      "  t_test = np.sqrt(df)*beta*np.sqrt(dot_v_v)/np.sqrt(dot_resid_resid)\n"
     ]
    },
    {
     "ename": "IndexError",
     "evalue": "invalid index to scalar variable.",
     "output_type": "error",
     "traceback": [
      "\u001b[0;31m---------------------------------------------------------------------------\u001b[0m",
      "\u001b[0;31mIndexError\u001b[0m                                Traceback (most recent call last)",
      "Cell \u001b[0;32mIn[66], line 52\u001b[0m\n\u001b[1;32m     50\u001b[0m dot_resid_resid \u001b[39m=\u001b[39m np\u001b[39m.\u001b[39mmatmul(np\u001b[39m.\u001b[39mtranspose(resid),resid)[\u001b[39m0\u001b[39m,\u001b[39m0\u001b[39m]\n\u001b[1;32m     51\u001b[0m t_test \u001b[39m=\u001b[39m np\u001b[39m.\u001b[39msqrt(df)\u001b[39m*\u001b[39mbeta\u001b[39m*\u001b[39mnp\u001b[39m.\u001b[39msqrt(dot_v_v)\u001b[39m/\u001b[39mnp\u001b[39m.\u001b[39msqrt(dot_resid_resid)\n\u001b[0;32m---> 52\u001b[0m t_test \u001b[39m=\u001b[39m t_test[\u001b[39m0\u001b[39;49m,\u001b[39m0\u001b[39;49m]\n\u001b[1;32m     53\u001b[0m p_val \u001b[39m=\u001b[39m \u001b[39m2\u001b[39m\u001b[39m*\u001b[39mscipy\u001b[39m.\u001b[39mstats\u001b[39m.\u001b[39mt\u001b[39m.\u001b[39msf(\u001b[39mabs\u001b[39m(t_test), df)\n",
      "\u001b[0;31mIndexError\u001b[0m: invalid index to scalar variable."
     ]
    }
   ],
   "source": [
    "snp = np.matrix(data.iloc[:,:-1])\n",
    "phenotype_tilde = phenotype - phenotype.mean()\n",
    "phenotype_tilde = np.matrix(phenotype_tilde)\n",
    "        \n",
    "x = np.transpose(np.matrix(snp[:,0]))\n",
    "y = np.transpose(np.matrix(snp[:,1]))\n",
    "z = np.transpose(np.matrix(snp[:,2]))\n",
    "q = np.concatenate((x,y,z), axis=1)\n",
    "print(\"Size of q: \", q.size)\n",
    "a = np.multiply(x,y)\n",
    "print(\"Size of a: \", a.size)\n",
    "q = np.concatenate((q,a), axis=1)\n",
    "print(\"Size of q: \", q.size)\n",
    "a = np.multiply(y,z)\n",
    "print(\"Size of a: \", a.size)\n",
    "q = np.concatenate((q,a), axis=1)\n",
    "print(\"Size of q: \", q.size)\n",
    "a = np.multiply(x,z)\n",
    "print(\"Size of a: \", a.size)\n",
    "q = np.concatenate((q,a), axis=1)\n",
    "print(\"Size of q: \", q.size)\n",
    "a = np.multiply(x,y)\n",
    "a = np.multiply(a,z)\n",
    "q = np.concatenate((q,a), axis=1)\n",
    "print(\"Size of q: \", q.size)\n",
    "q = q - q.mean(axis=0)\n",
    "q = np.concatenate((q,phenotype_tilde),axis=1)\n",
    "print(\"Size of q: \", q.size)\n",
    "\n",
    "#beta for interaction of 3way epistasis\n",
    "beta = 0\n",
    "for l in range(1,8):\n",
    "    gs_curr = q[:,l]\n",
    "    print(\"gs curr: \", gs_curr)\n",
    "    for m in range(l):\n",
    "        gs_prev = q[:,m]\n",
    "        print(\"gs_prev: \", gs_prev)\n",
    "        curr_numerator = np.matmul(np.transpose(gs_curr), gs_prev)\n",
    "        print(\"curr numerator value: \", curr_numerator)\n",
    "        curr_denominator = np.matmul(np.transpose(gs_prev), gs_prev)\n",
    "        print(\"curr numerator value: \", curr_denominator)\n",
    "        curr = np.matmul(np.transpose(gs_curr), gs_prev)/np.matmul(np.transpose(gs_prev), gs_prev)\n",
    "        print(\"curr value: \", curr)\n",
    "        if l == 7 and m == 6:\n",
    "            beta = curr\n",
    "        q[:,l] = q[:,l] - curr[0,0]*gs_prev\n",
    "    v = q[:,6]\n",
    "    resid = q[:,7]\n",
    "    dot_v_v = np.matmul(np.transpose(v),v)[0,0]\n",
    "    dot_resid_resid = np.matmul(np.transpose(resid),resid)[0,0]\n",
    "    t_test = np.sqrt(df)*beta*np.sqrt(dot_v_v)/np.sqrt(dot_resid_resid)\n",
    "    t_test = t_test[0,0]\n",
    "    p_val = 2*scipy.stats.t.sf(abs(t_test), df)"
   ]
  },
  {
   "cell_type": "code",
   "execution_count": 70,
   "metadata": {},
   "outputs": [],
   "source": [
    "def epistatis_three_way(i, j, k, phenotype):\n",
    "    try:\n",
    "        snp = np.matrix(data.iloc[:,:-1])\n",
    "        phenotype_tilde = phenotype - phenotype.mean()\n",
    "        phenotype_tilde = np.matrix(phenotype_tilde)\n",
    "        \n",
    "        x = np.transpose(np.matrix(snp[:,i]))\n",
    "        y = np.transpose(np.matrix(snp[:,j]))\n",
    "        z = np.transpose(np.matrix(snp[:,k]))\n",
    "        q = np.concatenate((x,y,z), axis=1)\n",
    "        a = np.multiply(x,y)\n",
    "        q = np.concatenate((q,a),axis=1)\n",
    "        a = np.multiply(y,z)\n",
    "        q = np.concatenate((q,a),axis=1)\n",
    "        a = np.multiply(x,z)\n",
    "        q = np.concatenate((q,a),axis=1)\n",
    "        a = np.multiply(x,y)\n",
    "        a = np.multiply(a,z)\n",
    "        q = np.concatenate((q,a),axis=1)\n",
    "        q = q - q.mean(axis=0)\n",
    "        q = np.concatenate((q,phenotype_tilde),axis=1)\n",
    "        #beta for interaction of 3way epistasis\n",
    "        beta = 0\n",
    "        for l in range(1,8):\n",
    "          gs_curr = q[:,l]\n",
    "          for m in range(l):\n",
    "            gs_prev = q[:,m]\n",
    "            curr = np.matmul(np.transpose(gs_curr), gs_prev)/np.matmul(np.transpose(gs_prev), gs_prev)\n",
    "            if l == 7 and m == 6:\n",
    "              beta = curr\n",
    "            q[:,l] = q[:,l] - curr[0,0]*gs_prev\n",
    "        v = q[:,6]\n",
    "        resid = q[:,7]\n",
    "        dot_v_v = np.matmul(np.transpose(v),v)[0,0]\n",
    "        dot_resid_resid = np.matmul(np.transpose(resid),resid)[0,0]\n",
    "        t_test = np.sqrt(df)*beta*np.sqrt(dot_v_v)/np.sqrt(dot_resid_resid)\n",
    "        t_test = t_test[0,0]\n",
    "        p_val = 2*scipy.stats.t.sf(abs(t_test), df)\n",
    "\n",
    "    except Exception as e:\n",
    "        print(\"Error pair detected with error: \", e)\n",
    "        t_test = 0\n",
    "        p_val = 1\n",
    "\n",
    "    return t_test, p_val\n"
   ]
  },
  {
   "cell_type": "code",
   "execution_count": 72,
   "metadata": {},
   "outputs": [
    {
     "name": "stderr",
     "output_type": "stream",
     "text": [
      "/var/folders/tk/fx2yky6541g6mcrmyxf32_6c0000gt/T/ipykernel_9750/2069983400.py:28: RuntimeWarning: invalid value encountered in true_divide\n",
      "  curr = np.matmul(np.transpose(gs_curr), gs_prev)/np.matmul(np.transpose(gs_prev), gs_prev)\n"
     ]
    },
    {
     "ename": "KeyboardInterrupt",
     "evalue": "",
     "output_type": "error",
     "traceback": [
      "\u001b[0;31m---------------------------------------------------------------------------\u001b[0m",
      "\u001b[0;31mKeyboardInterrupt\u001b[0m                         Traceback (most recent call last)",
      "Cell \u001b[0;32mIn[72], line 8\u001b[0m\n\u001b[1;32m      5\u001b[0m \u001b[39mfor\u001b[39;00m j \u001b[39min\u001b[39;00m \u001b[39mrange\u001b[39m(i\u001b[39m+\u001b[39m\u001b[39m1\u001b[39m, data\u001b[39m.\u001b[39mshape[\u001b[39m1\u001b[39m]\u001b[39m-\u001b[39m\u001b[39m1\u001b[39m):\n\u001b[1;32m      6\u001b[0m     \u001b[39mfor\u001b[39;00m k \u001b[39min\u001b[39;00m \u001b[39mrange\u001b[39m(j\u001b[39m+\u001b[39m\u001b[39m1\u001b[39m, data\u001b[39m.\u001b[39mshape[\u001b[39m1\u001b[39m]\u001b[39m-\u001b[39m\u001b[39m1\u001b[39m):\n\u001b[0;32m----> 8\u001b[0m         t_test, p_val \u001b[39m=\u001b[39m epistatis_three_way(i, j, k, phenotype)\n\u001b[1;32m      9\u001b[0m         p_value_locus\u001b[39m.\u001b[39mappend((p_val, data\u001b[39m.\u001b[39mcolumns[i], data\u001b[39m.\u001b[39mcolumns[j], data\u001b[39m.\u001b[39mcolumns[k]))\n\u001b[1;32m     11\u001b[0m         \u001b[39m# print(\" Interacting SNP 1 = {0} \\t  Interacting SNP 2 ={1} \\t Interacting SNP 3 = {2}  \\t t_test = {3} \\t p_val = {4} \".format(data.columns[i], data.columns[j], data.columns[k], t_test, p_val))\u001b[39;00m\n\u001b[1;32m     12\u001b[0m         \u001b[39m# printing the interacting pairs with ttest values greater than the selected critical value\u001b[39;00m\n",
      "Cell \u001b[0;32mIn[70], line 3\u001b[0m, in \u001b[0;36mepistatis_three_way\u001b[0;34m(i, j, k, phenotype)\u001b[0m\n\u001b[1;32m      1\u001b[0m \u001b[39mdef\u001b[39;00m \u001b[39mepistatis_three_way\u001b[39m(i, j, k, phenotype):\n\u001b[1;32m      2\u001b[0m     \u001b[39mtry\u001b[39;00m:\n\u001b[0;32m----> 3\u001b[0m         snp \u001b[39m=\u001b[39m np\u001b[39m.\u001b[39mmatrix(data\u001b[39m.\u001b[39;49miloc[:,:\u001b[39m-\u001b[39;49m\u001b[39m1\u001b[39;49m])\n\u001b[1;32m      4\u001b[0m         phenotype_tilde \u001b[39m=\u001b[39m phenotype \u001b[39m-\u001b[39m phenotype\u001b[39m.\u001b[39mmean()\n\u001b[1;32m      5\u001b[0m         phenotype_tilde \u001b[39m=\u001b[39m np\u001b[39m.\u001b[39mmatrix(phenotype_tilde)\n",
      "File \u001b[0;32m~/opt/anaconda3/envs/autoqtl_env/lib/python3.10/site-packages/pandas/core/indexing.py:1067\u001b[0m, in \u001b[0;36m_LocationIndexer.__getitem__\u001b[0;34m(self, key)\u001b[0m\n\u001b[1;32m   1065\u001b[0m     \u001b[39mif\u001b[39;00m \u001b[39mself\u001b[39m\u001b[39m.\u001b[39m_is_scalar_access(key):\n\u001b[1;32m   1066\u001b[0m         \u001b[39mreturn\u001b[39;00m \u001b[39mself\u001b[39m\u001b[39m.\u001b[39mobj\u001b[39m.\u001b[39m_get_value(\u001b[39m*\u001b[39mkey, takeable\u001b[39m=\u001b[39m\u001b[39mself\u001b[39m\u001b[39m.\u001b[39m_takeable)\n\u001b[0;32m-> 1067\u001b[0m     \u001b[39mreturn\u001b[39;00m \u001b[39mself\u001b[39;49m\u001b[39m.\u001b[39;49m_getitem_tuple(key)\n\u001b[1;32m   1068\u001b[0m \u001b[39melse\u001b[39;00m:\n\u001b[1;32m   1069\u001b[0m     \u001b[39m# we by definition only have the 0th axis\u001b[39;00m\n\u001b[1;32m   1070\u001b[0m     axis \u001b[39m=\u001b[39m \u001b[39mself\u001b[39m\u001b[39m.\u001b[39maxis \u001b[39mor\u001b[39;00m \u001b[39m0\u001b[39m\n",
      "File \u001b[0;32m~/opt/anaconda3/envs/autoqtl_env/lib/python3.10/site-packages/pandas/core/indexing.py:1567\u001b[0m, in \u001b[0;36m_iLocIndexer._getitem_tuple\u001b[0;34m(self, tup)\u001b[0m\n\u001b[1;32m   1564\u001b[0m \u001b[39mwith\u001b[39;00m suppress(IndexingError):\n\u001b[1;32m   1565\u001b[0m     \u001b[39mreturn\u001b[39;00m \u001b[39mself\u001b[39m\u001b[39m.\u001b[39m_getitem_lowerdim(tup)\n\u001b[0;32m-> 1567\u001b[0m \u001b[39mreturn\u001b[39;00m \u001b[39mself\u001b[39;49m\u001b[39m.\u001b[39;49m_getitem_tuple_same_dim(tup)\n",
      "File \u001b[0;32m~/opt/anaconda3/envs/autoqtl_env/lib/python3.10/site-packages/pandas/core/indexing.py:924\u001b[0m, in \u001b[0;36m_LocationIndexer._getitem_tuple_same_dim\u001b[0;34m(self, tup)\u001b[0m\n\u001b[1;32m    921\u001b[0m \u001b[39mif\u001b[39;00m com\u001b[39m.\u001b[39mis_null_slice(key):\n\u001b[1;32m    922\u001b[0m     \u001b[39mcontinue\u001b[39;00m\n\u001b[0;32m--> 924\u001b[0m retval \u001b[39m=\u001b[39m \u001b[39mgetattr\u001b[39;49m(retval, \u001b[39mself\u001b[39;49m\u001b[39m.\u001b[39;49mname)\u001b[39m.\u001b[39;49m_getitem_axis(key, axis\u001b[39m=\u001b[39;49mi)\n\u001b[1;32m    925\u001b[0m \u001b[39m# We should never have retval.ndim < self.ndim, as that should\u001b[39;00m\n\u001b[1;32m    926\u001b[0m \u001b[39m#  be handled by the _getitem_lowerdim call above.\u001b[39;00m\n\u001b[1;32m    927\u001b[0m \u001b[39massert\u001b[39;00m retval\u001b[39m.\u001b[39mndim \u001b[39m==\u001b[39m \u001b[39mself\u001b[39m\u001b[39m.\u001b[39mndim\n",
      "File \u001b[0;32m~/opt/anaconda3/envs/autoqtl_env/lib/python3.10/site-packages/pandas/core/indexing.py:1602\u001b[0m, in \u001b[0;36m_iLocIndexer._getitem_axis\u001b[0;34m(self, key, axis)\u001b[0m\n\u001b[1;32m   1596\u001b[0m     \u001b[39mraise\u001b[39;00m \u001b[39mIndexError\u001b[39;00m(\n\u001b[1;32m   1597\u001b[0m         \u001b[39m\"\u001b[39m\u001b[39mDataFrame indexer is not allowed for .iloc\u001b[39m\u001b[39m\\n\u001b[39;00m\u001b[39m\"\u001b[39m\n\u001b[1;32m   1598\u001b[0m         \u001b[39m\"\u001b[39m\u001b[39mConsider using .loc for automatic alignment.\u001b[39m\u001b[39m\"\u001b[39m\n\u001b[1;32m   1599\u001b[0m     )\n\u001b[1;32m   1601\u001b[0m \u001b[39mif\u001b[39;00m \u001b[39misinstance\u001b[39m(key, \u001b[39mslice\u001b[39m):\n\u001b[0;32m-> 1602\u001b[0m     \u001b[39mreturn\u001b[39;00m \u001b[39mself\u001b[39;49m\u001b[39m.\u001b[39;49m_get_slice_axis(key, axis\u001b[39m=\u001b[39;49maxis)\n\u001b[1;32m   1604\u001b[0m \u001b[39mif\u001b[39;00m is_iterator(key):\n\u001b[1;32m   1605\u001b[0m     key \u001b[39m=\u001b[39m \u001b[39mlist\u001b[39m(key)\n",
      "File \u001b[0;32m~/opt/anaconda3/envs/autoqtl_env/lib/python3.10/site-packages/pandas/core/indexing.py:1638\u001b[0m, in \u001b[0;36m_iLocIndexer._get_slice_axis\u001b[0;34m(self, slice_obj, axis)\u001b[0m\n\u001b[1;32m   1636\u001b[0m labels \u001b[39m=\u001b[39m obj\u001b[39m.\u001b[39m_get_axis(axis)\n\u001b[1;32m   1637\u001b[0m labels\u001b[39m.\u001b[39m_validate_positional_slice(slice_obj)\n\u001b[0;32m-> 1638\u001b[0m \u001b[39mreturn\u001b[39;00m \u001b[39mself\u001b[39;49m\u001b[39m.\u001b[39;49mobj\u001b[39m.\u001b[39;49m_slice(slice_obj, axis\u001b[39m=\u001b[39;49maxis)\n",
      "File \u001b[0;32m~/opt/anaconda3/envs/autoqtl_env/lib/python3.10/site-packages/pandas/core/generic.py:4105\u001b[0m, in \u001b[0;36mNDFrame._slice\u001b[0;34m(self, slobj, axis)\u001b[0m\n\u001b[1;32m   4103\u001b[0m \u001b[39massert\u001b[39;00m \u001b[39misinstance\u001b[39m(slobj, \u001b[39mslice\u001b[39m), \u001b[39mtype\u001b[39m(slobj)\n\u001b[1;32m   4104\u001b[0m axis \u001b[39m=\u001b[39m \u001b[39mself\u001b[39m\u001b[39m.\u001b[39m_get_block_manager_axis(axis)\n\u001b[0;32m-> 4105\u001b[0m result \u001b[39m=\u001b[39m \u001b[39mself\u001b[39m\u001b[39m.\u001b[39m_constructor(\u001b[39mself\u001b[39;49m\u001b[39m.\u001b[39;49m_mgr\u001b[39m.\u001b[39;49mget_slice(slobj, axis\u001b[39m=\u001b[39;49maxis))\n\u001b[1;32m   4106\u001b[0m result \u001b[39m=\u001b[39m result\u001b[39m.\u001b[39m__finalize__(\u001b[39mself\u001b[39m)\n\u001b[1;32m   4108\u001b[0m \u001b[39m# this could be a view\u001b[39;00m\n\u001b[1;32m   4109\u001b[0m \u001b[39m# but only in a single-dtyped view sliceable case\u001b[39;00m\n",
      "File \u001b[0;32m~/opt/anaconda3/envs/autoqtl_env/lib/python3.10/site-packages/pandas/_libs/internals.pyx:821\u001b[0m, in \u001b[0;36mpandas._libs.internals.BlockManager.get_slice\u001b[0;34m()\u001b[0m\n",
      "File \u001b[0;32m~/opt/anaconda3/envs/autoqtl_env/lib/python3.10/site-packages/pandas/core/internals/managers.py:902\u001b[0m, in \u001b[0;36mBaseBlockManager._slice_take_blocks_ax0\u001b[0;34m(self, slice_or_indexer, fill_value, only_slice, use_na_proxy)\u001b[0m\n\u001b[1;32m    900\u001b[0m         refs\u001b[39m.\u001b[39mappend(weakref\u001b[39m.\u001b[39mref(blk))\n\u001b[1;32m    901\u001b[0m \u001b[39melse\u001b[39;00m:\n\u001b[0;32m--> 902\u001b[0m     nb \u001b[39m=\u001b[39m blk\u001b[39m.\u001b[39;49mtake_nd(taker, axis\u001b[39m=\u001b[39;49m\u001b[39m0\u001b[39;49m, new_mgr_locs\u001b[39m=\u001b[39;49mmgr_locs)\n\u001b[1;32m    903\u001b[0m     blocks\u001b[39m.\u001b[39mappend(nb)\n\u001b[1;32m    904\u001b[0m     refs\u001b[39m.\u001b[39mappend(\u001b[39mNone\u001b[39;00m)\n",
      "File \u001b[0;32m~/opt/anaconda3/envs/autoqtl_env/lib/python3.10/site-packages/pandas/core/internals/blocks.py:878\u001b[0m, in \u001b[0;36mBlock.take_nd\u001b[0;34m(self, indexer, axis, new_mgr_locs, fill_value)\u001b[0m\n\u001b[1;32m    875\u001b[0m     allow_fill \u001b[39m=\u001b[39m \u001b[39mTrue\u001b[39;00m\n\u001b[1;32m    877\u001b[0m \u001b[39m# Note: algos.take_nd has upcast logic similar to coerce_to_target_dtype\u001b[39;00m\n\u001b[0;32m--> 878\u001b[0m new_values \u001b[39m=\u001b[39m algos\u001b[39m.\u001b[39;49mtake_nd(\n\u001b[1;32m    879\u001b[0m     values, indexer, axis\u001b[39m=\u001b[39;49maxis, allow_fill\u001b[39m=\u001b[39;49mallow_fill, fill_value\u001b[39m=\u001b[39;49mfill_value\n\u001b[1;32m    880\u001b[0m )\n\u001b[1;32m    882\u001b[0m \u001b[39m# Called from three places in managers, all of which satisfy\u001b[39;00m\n\u001b[1;32m    883\u001b[0m \u001b[39m#  this assertion\u001b[39;00m\n\u001b[1;32m    884\u001b[0m \u001b[39massert\u001b[39;00m \u001b[39mnot\u001b[39;00m (axis \u001b[39m==\u001b[39m \u001b[39m0\u001b[39m \u001b[39mand\u001b[39;00m new_mgr_locs \u001b[39mis\u001b[39;00m \u001b[39mNone\u001b[39;00m)\n",
      "File \u001b[0;32m~/opt/anaconda3/envs/autoqtl_env/lib/python3.10/site-packages/pandas/core/array_algos/take.py:117\u001b[0m, in \u001b[0;36mtake_nd\u001b[0;34m(arr, indexer, axis, fill_value, allow_fill)\u001b[0m\n\u001b[1;32m    114\u001b[0m     \u001b[39mreturn\u001b[39;00m arr\u001b[39m.\u001b[39mtake(indexer, fill_value\u001b[39m=\u001b[39mfill_value, allow_fill\u001b[39m=\u001b[39mallow_fill)\n\u001b[1;32m    116\u001b[0m arr \u001b[39m=\u001b[39m np\u001b[39m.\u001b[39masarray(arr)\n\u001b[0;32m--> 117\u001b[0m \u001b[39mreturn\u001b[39;00m _take_nd_ndarray(arr, indexer, axis, fill_value, allow_fill)\n",
      "File \u001b[0;32m~/opt/anaconda3/envs/autoqtl_env/lib/python3.10/site-packages/pandas/core/array_algos/take.py:163\u001b[0m, in \u001b[0;36m_take_nd_ndarray\u001b[0;34m(arr, indexer, axis, fill_value, allow_fill)\u001b[0m\n\u001b[1;32m    158\u001b[0m     out \u001b[39m=\u001b[39m np\u001b[39m.\u001b[39mempty(out_shape, dtype\u001b[39m=\u001b[39mdtype)\n\u001b[1;32m    160\u001b[0m func \u001b[39m=\u001b[39m _get_take_nd_function(\n\u001b[1;32m    161\u001b[0m     arr\u001b[39m.\u001b[39mndim, arr\u001b[39m.\u001b[39mdtype, out\u001b[39m.\u001b[39mdtype, axis\u001b[39m=\u001b[39maxis, mask_info\u001b[39m=\u001b[39mmask_info\n\u001b[1;32m    162\u001b[0m )\n\u001b[0;32m--> 163\u001b[0m func(arr, indexer, out, fill_value)\n\u001b[1;32m    165\u001b[0m \u001b[39mif\u001b[39;00m flip_order:\n\u001b[1;32m    166\u001b[0m     out \u001b[39m=\u001b[39m out\u001b[39m.\u001b[39mT\n",
      "\u001b[0;31mKeyboardInterrupt\u001b[0m: "
     ]
    }
   ],
   "source": [
    "# applying the above defined method (3 way Epistasis) to the dataset\n",
    "\n",
    "p_value_locus = [] # list of tuples containing the p_value and the two interacting loci\n",
    "for i in range(0, data.shape[1]-1):\n",
    "    for j in range(i+1, data.shape[1]-1):\n",
    "        for k in range(j+1, data.shape[1]-1):\n",
    "            \n",
    "            t_test, p_val = epistatis_three_way(i, j, k, phenotype)\n",
    "            p_value_locus.append((p_val, data.columns[i], data.columns[j], data.columns[k]))\n",
    "\n",
    "            # print(\" Interacting SNP 1 = {0} \\t  Interacting SNP 2 ={1} \\t Interacting SNP 3 = {2}  \\t t_test = {3} \\t p_val = {4} \".format(data.columns[i], data.columns[j], data.columns[k], t_test, p_val))\n",
    "            # printing the interacting pairs with ttest values greater than the selected critical value\n",
    "            if abs(t_test) > critical_value:\n",
    "                print(\" Interacting SNP 1 = {0} \\t  Interacting SNP 2 ={1} \\t Interacting SNP 3 = {2}  \\t t_test = {3} \\t p_val = {4} \".format(data.columns[i], data.columns[j], data.columns[k], t_test, p_val))\n",
    "\n",
    "            # # printing exception cases\n",
    "            # if t_test==0 and p_val==1:\n",
    "            #     print(\"Error Pair: \")\n",
    "            #     print(\" Interacting SNP 1 = {0} \\t  Interacting SNP 2 ={1} \\t Interacting SNP 3 = {2}  \\t t_test = {3} \\t p_val = {4} \".format(data.columns[i], data.columns[j], data.columns[k], t_test, p_val))"
   ]
  },
  {
   "cell_type": "code",
   "execution_count": null,
   "metadata": {},
   "outputs": [],
   "source": [
    "for i in range(cols):\n",
    "  for j in range(i+1,cols):\n",
    "    for k in range(j+1,cols):\n",
    "      try:\n",
    "        x = np.transpose(np.matrix(snp[:,i]))\n",
    "        y = np.transpose(np.matrix(snp[:,j]))\n",
    "        z = np.transpose(np.matrix(snp[:,k]))\n",
    "        q = np.concatenate((x,y,z), axis=1)\n",
    "        a = np.multiply(x,y)\n",
    "        q = np.concatenate((q,a),axis=1)\n",
    "        a = np.multiply(y,z)\n",
    "        q = np.concatenate((q,a),axis=1)\n",
    "        a = np.multiply(x,z)\n",
    "        q = np.concatenate((q,a),axis=1)\n",
    "        a = np.multiply(x,y)\n",
    "        a = np.multiply(a,z)\n",
    "        q = np.concatenate((q,a),axis=1)\n",
    "        q = q - q.mean(axis=0)\n",
    "        q = np.concatenate((q,tilde_p),axis=1)\n",
    "        #beta for interaction of 3way epistasis\n",
    "        beta = 0\n",
    "        for l in range(1,8):\n",
    "          gs_curr = q[:,l]\n",
    "          for m in range(l):\n",
    "            gs_prev = q[:,m]\n",
    "            curr = np.matmul(np.transpose(gs_curr), gs_prev)/np.matmul(np.transpose(gs_prev), gs_prev)\n",
    "            if l == 7 and m == 6:\n",
    "              beta = curr\n",
    "            q[:,l] = q[:,l] - curr[0,0]*gs_prev\n",
    "        v = q[:,6]\n",
    "        resid = q[:,7]\n",
    "        dot_v_v = np.matmul(np.transpose(v),v)[0,0]\n",
    "        dot_resid_resid = np.matmul(np.transpose(resid),resid)[0,0]\n",
    "        t_test = np.sqrt(df)*beta*np.sqrt(dot_v_v)/np.sqrt(dot_resid_resid)\n",
    "        t_test = t_test[0,0]\n",
    "        p_val = 2*scipy.stats.t.sf(abs(t_test), df)\n",
    "      except Exception as e:\n",
    "        print(\"Error pair (\",i, \",\",j, \", \",k, \"):\",e)\n",
    "        t_test = 0\n",
    "        p_val = 1"
   ]
  }
 ],
 "metadata": {
  "kernelspec": {
   "display_name": "Python 3 (ipykernel)",
   "language": "python",
   "name": "python3"
  },
  "language_info": {
   "codemirror_mode": {
    "name": "ipython",
    "version": 3
   },
   "file_extension": ".py",
   "mimetype": "text/x-python",
   "name": "python",
   "nbconvert_exporter": "python",
   "pygments_lexer": "ipython3",
   "version": "3.10.6"
  },
  "vscode": {
   "interpreter": {
    "hash": "506c12871c44be1527a6e7c25c95d2dc736aaab0b3457406043d1256ac2febd5"
   }
  }
 },
 "nbformat": 4,
 "nbformat_minor": 2
}
