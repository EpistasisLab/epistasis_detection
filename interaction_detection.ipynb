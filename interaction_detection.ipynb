{
 "cells": [
  {
   "cell_type": "markdown",
   "metadata": {},
   "source": [
    "This notebook is written to implement the model for Epistasis as defined in the research work titled 'Computational Framework for Statistical Epistasis Supports XOR Penetrance Function in a Living System'. "
   ]
  },
  {
   "cell_type": "code",
   "execution_count": 23,
   "metadata": {},
   "outputs": [],
   "source": [
    "# importing all the required packages\n",
    "import pandas as pd\n",
    "import numpy as np\n",
    "import scipy.stats"
   ]
  },
  {
   "cell_type": "code",
   "execution_count": 67,
   "metadata": {},
   "outputs": [],
   "source": [
    "# reading the data \n",
    "data = pd.read_csv(\"top10k_pruned.csv\") # the last column contains the phenotype values, in this case bmi\n",
    "phenotype = data.iloc[:,-1]"
   ]
  },
  {
   "cell_type": "code",
   "execution_count": 68,
   "metadata": {},
   "outputs": [
    {
     "name": "stdout",
     "output_type": "stream",
     "text": [
      "0       0.021571\n",
      "1      -0.696204\n",
      "2       0.745178\n",
      "3       2.002737\n",
      "4       0.198740\n",
      "          ...   \n",
      "5561    0.649946\n",
      "5562    0.416354\n",
      "5563   -1.510500\n",
      "5564    0.646228\n",
      "5565   -0.226840\n",
      "Name: y, Length: 5566, dtype: float64\n"
     ]
    }
   ],
   "source": [
    "print(phenotype)"
   ]
  },
  {
   "cell_type": "code",
   "execution_count": 69,
   "metadata": {},
   "outputs": [],
   "source": [
    "# # reading the data \n",
    "# data = pd.read_csv(\"BMIwTail.csv\") # the last column contains the phenotype values, in this case bmi\n",
    "\n",
    "# # storing the phenotype in the variable\n",
    "# phenotype = data.iloc[:,-1]\n",
    "\n",
    "# defining the significance level \n",
    "alpha = .05\n",
    "\n",
    "# storing the count of number of samples in the variable n\n",
    "n = data.shape[0]\n",
    "\n",
    "# defining degrees of freedom where n is number of samples\n",
    "df = n-4\n",
    "\n",
    "# defining the critical value\n",
    "critical_value = scipy.stats.t.ppf(q=1-alpha/2,df=df)\n"
   ]
  },
  {
   "cell_type": "markdown",
   "metadata": {},
   "source": [
    "Below is the algoritm implementation for the partial correlation of interaction of genes for Epistasis. We use two different ways of encoding the interaction terms. Firstly, the traditional method of cartesian product and then by using the XOR penetrance function."
   ]
  },
  {
   "cell_type": "code",
   "execution_count": 7,
   "metadata": {},
   "outputs": [],
   "source": [
    "# Algorithm for Interaction Coefficient for Pairwise Epistasis\n",
    "\"\"\"Parameters for the method:\n",
    "    snp1 - First snp in the pair to be checked for interaction\n",
    "    snp2 - Second snp in the pair to be checked for interaction\n",
    "    phenotype - Phenotype vector\n",
    "\"\"\"\n",
    "def epistatis(snp1, snp2, phenotype): \n",
    "    try:\n",
    "        # removing the intercept by mean centering\n",
    "        snp1_tilde = snp1 - snp1.mean()\n",
    "        snp2_tilde = snp2 - snp2.mean()\n",
    "        phenotype_tilde = phenotype - phenotype.mean()\n",
    "\n",
    "        # declaring the interaction vector - will contain the interaction term of snp1 and snp2\n",
    "        interaction_vector = pd.Series(dtype='float64')\n",
    "    \n",
    "        # defining the interaction vector - either using cartesian product or XOR\n",
    "        interaction_vector = (snp1%2 + snp2%2)%2 # using XOR penetrance\n",
    "        #interaction_vector = snp1.mul(snp2) # using cartesian product\n",
    "    \n",
    "        # mean centering the interaction vector \n",
    "        interaction_vector_tilde = interaction_vector - interaction_vector.mean()\n",
    "   \n",
    "        # computing the dot products as explained in the algorithm\n",
    "        x = (snp1_tilde.dot(interaction_vector_tilde)/snp1_tilde.dot(snp1_tilde)) * (snp1_tilde)\n",
    "        u = interaction_vector_tilde - x\n",
    "        y = (((interaction_vector_tilde.dot(snp2_tilde)) * (snp1_tilde.dot(snp1_tilde))) - ((snp1_tilde.dot(snp2_tilde)) * ((snp1_tilde.dot(interaction_vector_tilde))))) / ((snp2_tilde.dot(snp2_tilde)) * (snp1_tilde.dot(snp1_tilde)) - ((snp1_tilde.dot(snp2_tilde)) * (snp1_tilde.dot(snp2_tilde))))\n",
    "        z = snp2_tilde - (((snp1_tilde.dot(snp2_tilde)) / (snp1_tilde.dot(snp1_tilde))) * snp1_tilde)\n",
    "        v = u - (y*z)\n",
    "        r = (v.dot(phenotype_tilde)) / (v.dot(v)) # interactionn coefficient\n",
    "        # performing Fisher's ttest\n",
    "        t_test = np.sqrt(df)*r/(np.sqrt(1-r*r))\n",
    "        p_val = scipy.stats.t.sf(abs(t_test), df)\n",
    "    except Exception as e:\n",
    "        print(\"Error pair detected with error: \", e)\n",
    "        r = 0\n",
    "        t_test = 0\n",
    "        p_val = 1\n",
    "\n",
    "    return r, t_test, p_val # returning the interaction coefficient"
   ]
  },
  {
   "cell_type": "code",
   "execution_count": null,
   "metadata": {},
   "outputs": [],
   "source": [
    "# applying the above defined method to the dataset\n",
    "\n",
    "p_value_locus = [] # list of tuples containing the p_value and the two interacting loci\n",
    "for i in range(0, data.shape[1]-1):\n",
    "    for j in range(i+1, data.shape[1]-1):\n",
    "        interacting_snp_1 = data.iloc[:,i]\n",
    "        interacting_snp_2 = data.iloc[:,j]\n",
    "        r, t_test, p_val = epistatis(interacting_snp_1, interacting_snp_2, phenotype)\n",
    "        p_value_locus.append((p_val, data.columns[i], data.columns[j]))\n",
    "\n",
    "        \n",
    "        # printing the interacting pairs with ttest values greater than the selected critical value\n",
    "        if abs(t_test) > critical_value:\n",
    "            print(\" Interacting SNP 1 = {0} \\t  Interacting SNP 2 ={1} \\t  Beta Coefficient(r) = {2}  \\t t_test = {3} \\t p_val = {4} \".format(data.columns[i], data.columns[j], r, t_test, p_val))\n",
    "\n",
    "        # printing exception cases\n",
    "        if r==0 and t_test==0 and p_val==1:\n",
    "            print(\"Error Pair: \")\n",
    "            print(\" Interacting SNP 1 = {0} \\t  Interacting SNP 2 ={1} \\t  Beta Coefficient(r) = {2}  \\t t_test = {3} \\t p_val = {4} \".format(data.columns[i], data.columns[j], r, t_test, p_val))"
   ]
  },
  {
   "cell_type": "code",
   "execution_count": null,
   "metadata": {},
   "outputs": [],
   "source": [
    "# performing fdr correction to correct for multiple tests\n",
    "\n",
    "import statsmodels.stats.multitest as ssm\n",
    "\n",
    "all_p_values = [] # list of all the p_values of the pairwise combinations\n",
    "for i in range(0, len(p_value_locus)):\n",
    "    all_p_values.append(p_value_locus[i][0])\n",
    "\n",
    "accept, corrected_pvals = ssm.fdrcorrection(np.asarray(all_p_values).flatten(), alpha=0.001)\n",
    "\n",
    "for i in range(0, len(corrected_pvals)):\n",
    "    # printing the significant pairs after p value correction\n",
    "    if corrected_pvals[i] < 0.001:\n",
    "        print(\" p-value = {0} \\t adjusted p-value = {1} \\t loci 1 = {2} \\t loci 2 = {3} \".format( p_value_locus[i][0],  corrected_pvals[i], p_value_locus[i][1], p_value_locus[i][2]))"
   ]
  },
  {
   "attachments": {},
   "cell_type": "markdown",
   "metadata": {},
   "source": [
    "Algorithm implementation for 3 way epistasis detection"
   ]
  },
  {
   "cell_type": "code",
   "execution_count": 70,
   "metadata": {},
   "outputs": [],
   "source": [
    "def epistatis_three_way(i, j, k, phenotype):\n",
    "    try:\n",
    "        snp = np.matrix(data.iloc[:,:-1])\n",
    "        phenotype_tilde = phenotype - phenotype.mean()\n",
    "        phenotype_tilde = np.matrix(phenotype_tilde)\n",
    "        \n",
    "        x = np.transpose(np.matrix(snp[:,i]))\n",
    "        y = np.transpose(np.matrix(snp[:,j]))\n",
    "        z = np.transpose(np.matrix(snp[:,k]))\n",
    "        q = np.concatenate((x,y,z), axis=1)\n",
    "        a = np.multiply(x,y)\n",
    "        q = np.concatenate((q,a),axis=1)\n",
    "        a = np.multiply(y,z)\n",
    "        q = np.concatenate((q,a),axis=1)\n",
    "        a = np.multiply(x,z)\n",
    "        q = np.concatenate((q,a),axis=1)\n",
    "        a = np.multiply(x,y)\n",
    "        a = np.multiply(a,z)\n",
    "        q = np.concatenate((q,a),axis=1)\n",
    "        q = q - q.mean(axis=0)\n",
    "        q = np.concatenate((q,phenotype_tilde),axis=1)\n",
    "        #beta for interaction of 3way epistasis\n",
    "        beta = 0\n",
    "        for l in range(1,8):\n",
    "          gs_curr = q[:,l]\n",
    "          for m in range(l):\n",
    "            gs_prev = q[:,m]\n",
    "            curr = np.matmul(np.transpose(gs_curr), gs_prev)/np.matmul(np.transpose(gs_prev), gs_prev)\n",
    "            if l == 7 and m == 6:\n",
    "              beta = curr\n",
    "            q[:,l] = q[:,l] - curr[0,0]*gs_prev\n",
    "        v = q[:,6]\n",
    "        resid = q[:,7]\n",
    "        dot_v_v = np.matmul(np.transpose(v),v)[0,0]\n",
    "        dot_resid_resid = np.matmul(np.transpose(resid),resid)[0,0]\n",
    "        t_test = np.sqrt(df)*beta*np.sqrt(dot_v_v)/np.sqrt(dot_resid_resid)\n",
    "        t_test = t_test[0,0]\n",
    "        p_val = 2*scipy.stats.t.sf(abs(t_test), df)\n",
    "\n",
    "    except Exception as e:\n",
    "        print(\"Error pair detected with error: \", e)\n",
    "        t_test = 0\n",
    "        p_val = 1\n",
    "\n",
    "    return t_test, p_val\n"
   ]
  },
  {
   "cell_type": "code",
   "execution_count": null,
   "metadata": {},
   "outputs": [],
   "source": [
    "# applying the above defined method (3 way Epistasis) to the dataset\n",
    "\n",
    "p_value_locus = [] # list of tuples containing the p_value and the two interacting loci\n",
    "for i in range(0, data.shape[1]-1):\n",
    "    for j in range(i+1, data.shape[1]-1):\n",
    "        for k in range(j+1, data.shape[1]-1):\n",
    "            \n",
    "            t_test, p_val = epistatis_three_way(i, j, k, phenotype)\n",
    "            p_value_locus.append((p_val, data.columns[i], data.columns[j], data.columns[k]))\n",
    "\n",
    "            # print(\" Interacting SNP 1 = {0} \\t  Interacting SNP 2 ={1} \\t Interacting SNP 3 = {2}  \\t t_test = {3} \\t p_val = {4} \".format(data.columns[i], data.columns[j], data.columns[k], t_test, p_val))\n",
    "            # printing the interacting pairs with ttest values greater than the selected critical value\n",
    "            if abs(t_test) > critical_value:\n",
    "                print(\" Interacting SNP 1 = {0} \\t  Interacting SNP 2 ={1} \\t Interacting SNP 3 = {2}  \\t t_test = {3} \\t p_val = {4} \".format(data.columns[i], data.columns[j], data.columns[k], t_test, p_val))\n",
    "\n",
    "            # # printing exception cases\n",
    "            # if t_test==0 and p_val==1:\n",
    "            #     print(\"Error Pair: \")\n",
    "            #     print(\" Interacting SNP 1 = {0} \\t  Interacting SNP 2 ={1} \\t Interacting SNP 3 = {2}  \\t t_test = {3} \\t p_val = {4} \".format(data.columns[i], data.columns[j], data.columns[k], t_test, p_val))"
   ]
  }
 ],
 "metadata": {
  "kernelspec": {
   "display_name": "Python 3 (ipykernel)",
   "language": "python",
   "name": "python3"
  },
  "language_info": {
   "codemirror_mode": {
    "name": "ipython",
    "version": 3
   },
   "file_extension": ".py",
   "mimetype": "text/x-python",
   "name": "python",
   "nbconvert_exporter": "python",
   "pygments_lexer": "ipython3",
   "version": "3.10.6"
  },
  "vscode": {
   "interpreter": {
    "hash": "506c12871c44be1527a6e7c25c95d2dc736aaab0b3457406043d1256ac2febd5"
   }
  }
 },
 "nbformat": 4,
 "nbformat_minor": 2
}
