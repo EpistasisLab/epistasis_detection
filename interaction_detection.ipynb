{
 "cells": [
  {
   "attachments": {},
   "cell_type": "markdown",
   "metadata": {},
   "source": [
    "This notebook is written to implement the model for Epistasis as defined in the research work titled 'Computational Framework for Statistical Epistasis Supports XOR Penetrance Function in a Living System'. "
   ]
  },
  {
   "cell_type": "code",
   "execution_count": 1,
   "metadata": {},
   "outputs": [],
   "source": [
    "# importing all the required packages\n",
    "import pandas as pd\n",
    "import numpy as np\n",
    "import scipy.stats"
   ]
  },
  {
   "cell_type": "code",
   "execution_count": 2,
   "metadata": {},
   "outputs": [],
   "source": [
    "# reading the data \n",
    "data = pd.read_csv(\"BMIwTail.csv\") # the last column contains the phenotype values, in this case bmi\n",
    "\n",
    "# storing the phenotype in the variable\n",
    "phenotype = data.iloc[:,-1]\n",
    "\n",
    "# defining the significance level \n",
    "alpha = .05\n",
    "\n",
    "# storing the count of number of samples in the variable n\n",
    "n = data.shape[0]\n",
    "\n",
    "# defining degrees of freedom where n is number of samples\n",
    "df = n-4\n",
    "\n",
    "# defining the critical value\n",
    "critical_value = scipy.stats.t.ppf(q=1-alpha/2,df=df)\n"
   ]
  },
  {
   "attachments": {},
   "cell_type": "markdown",
   "metadata": {},
   "source": [
    "Below is the algoritm implementation for the partial correlation of interaction of genes for Epistasis. We use two different ways of encoding the interaction terms. Firstly, the traditional method of cartesian product and then by using the XOR penetrance function."
   ]
  },
  {
   "cell_type": "code",
   "execution_count": 3,
   "metadata": {},
   "outputs": [],
   "source": [
    "# Algorithm for partial correlation of interaction of genes for Epistasis\n",
    "\"\"\"Parameters for the method:\n",
    "    snp1 - First snp in the pair to be checked for interaction\n",
    "    snp2 - Second snp in the pair to be checked for interaction\n",
    "    phenotype - Phenotype vector\n",
    "\"\"\"\n",
    "def epistatis(snp1, snp2, phenotype): \n",
    "    # removing the intercept by mean centering\n",
    "    snp1_tilde = snp1 - snp1.mean()\n",
    "    snp2_tilde = snp2 - snp2.mean()\n",
    "    phenotype_tilde = phenotype - phenotype.mean()\n",
    "\n",
    "    # declaring the interaction vector - will contain the interaction term of snp1 and snp2\n",
    "    interaction_vector = pd.Series(dtype='float64')\n",
    "    \n",
    "    # defining the interaction vector - either using cartesian product or XOR\n",
    "    interaction_vector = (snp1%2 + snp2%2)%2 # using XOR penetrance\n",
    "    #interaction_vector = snp1.mul(snp2) # using cartesian product\n",
    "    \n",
    "    # mean centering the interaction vector \n",
    "    interaction_vector_tilde = interaction_vector - interaction_vector.mean()\n",
    "   \n",
    "    # computing the dot products as explained in the algorithm\n",
    "    x = (snp1_tilde.dot(interaction_vector_tilde)/snp1_tilde.dot(snp1_tilde)) * (snp1_tilde)\n",
    "    u = interaction_vector_tilde - x\n",
    "    y = (((interaction_vector_tilde.dot(snp2_tilde)) * (snp1_tilde.dot(snp1_tilde))) - ((snp1_tilde.dot(snp2_tilde)) * ((snp1_tilde.dot(interaction_vector_tilde))))) / ((snp2_tilde.dot(snp2_tilde)) * (snp1_tilde.dot(snp1_tilde)) - ((snp1_tilde.dot(snp2_tilde)) * (snp1_tilde.dot(snp2_tilde))))\n",
    "    z = snp2_tilde - (((snp1_tilde.dot(snp2_tilde)) / (snp1_tilde.dot(snp1_tilde))) * snp1_tilde)\n",
    "    v = u - (y*z)\n",
    "    r = (v.dot(phenotype_tilde)) / (v.dot(v))\n",
    "\n",
    "    return r # returning the partial correlation coefficient"
   ]
  },
  {
   "cell_type": "code",
   "execution_count": null,
   "metadata": {},
   "outputs": [],
   "source": [
    "# applying the above defined method to the dataset\n",
    "\n",
    "p_value_locus = [] # list of tuples containing the p_value and the two interacting loci\n",
    "for i in range(0, data.shape[1]-1):\n",
    "    for j in range(i+1, data.shape[1]-1):\n",
    "        interacting_snp_1 = data.iloc[:,i]\n",
    "        interacting_snp_2 = data.iloc[:,j]\n",
    "        r = epistatis(interacting_snp_1, interacting_snp_2, phenotype)\n",
    "        \n",
    "        # performing Fisher's ttest\n",
    "        t_test = np.sqrt(df)*r/(np.sqrt(1-r*r))\n",
    "        p_val = scipy.stats.t.sf(abs(t_test), df)\n",
    "        p_value_locus.append((p_val, data.columns[i], data.columns[j]))\n",
    "        # printing the interacting pairs with ttest values greater than the selected critical value\n",
    "        if abs(t_test) > critical_value:\n",
    "            print(\" Interacting SNP 1 = {0} \\t  Interacting SNP 2 ={1} \\t  Beta Coefficient(r) = {2}  \\t t_test = {3} \\t p_val = {4} \".format(data.columns[i], data.columns[j], r, t_test, p_val))"
   ]
  },
  {
   "cell_type": "code",
   "execution_count": null,
   "metadata": {},
   "outputs": [],
   "source": [
    "# performing fdr correction to correct for multiple tests\n",
    "\n",
    "import statsmodels.stats.multitest as ssm\n",
    "\n",
    "all_p_values = [] # list of all the p_values of the pairwise combinations\n",
    "for i in range(0, len(p_value_locus)):\n",
    "    all_p_values.append(p_value_locus[i][0])\n",
    "\n",
    "accept, corrected_pvals = ssm.fdrcorrection(np.asarray(all_p_values).flatten(), alpha=0.001)\n",
    "\n",
    "for i in range(0, len(corrected_pvals)):\n",
    "    # printing the significant pairs after p value correction\n",
    "    if corrected_pvals[i] < 0.001:\n",
    "        print(\" p-value = {0} \\t adjusted p-value = {1} \\t loci 1 = {2} \\t loci 2 = {3} \".format( p_value_locus[i][0],  corrected_pvals[i], p_value_locus[i][1], p_value_locus[i][2]))"
   ]
  }
 ],
 "metadata": {
  "kernelspec": {
   "display_name": "autoqtl_env",
   "language": "python",
   "name": "python3"
  },
  "language_info": {
   "codemirror_mode": {
    "name": "ipython",
    "version": 3
   },
   "file_extension": ".py",
   "mimetype": "text/x-python",
   "name": "python",
   "nbconvert_exporter": "python",
   "pygments_lexer": "ipython3",
   "version": "3.10.6"
  },
  "orig_nbformat": 4,
  "vscode": {
   "interpreter": {
    "hash": "506c12871c44be1527a6e7c25c95d2dc736aaab0b3457406043d1256ac2febd5"
   }
  }
 },
 "nbformat": 4,
 "nbformat_minor": 2
}
